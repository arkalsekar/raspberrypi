{
 "cells": [
  {
   "cell_type": "code",
   "execution_count": 8,
   "metadata": {},
   "outputs": [],
   "source": [
    "# importing the req libraries\n",
    "import RPi.GPIO as GPIO\n",
    "import time\n",
    "# you can Install gpiozero on your Raspberry Pi using sudo apt install python3-gpiozero\n",
    "# Feel Free to check out the Official Installation Guide at https://gpiozero.readthedocs.io/\n",
    "import gpiozero\n",
    "from gpiozero import *"
   ]
  },
  {
   "cell_type": "code",
   "execution_count": 2,
   "metadata": {},
   "outputs": [
    {
     "name": "stdout",
     "output_type": "stream",
     "text": [
      ",--------------------------------.\n",
      "| oooooooooooooooooooo J8   +======\n",
      "| 1ooooooooooooooooooo  PoE |   Net\n",
      "|  Wi                    oo +======\n",
      "|  Fi  Pi Model 4B  V1.1 oo      |\n",
      "|        ,----.               +====\n",
      "| |D|    |SoC |               |USB3\n",
      "| |S|    |    |               +====\n",
      "| |I|    `----'                  |\n",
      "|                   |C|       +====\n",
      "|                   |S|       |USB2\n",
      "| pwr   |HD|   |HD| |I||A|    +====\n",
      "`-| |---|MI|---|MI|----|V|-------'\n"
     ]
    }
   ],
   "source": [
    "# This should Print the whole Raspberry Pi on the Terminal\n",
    "print('{0:board}'.format(pi_info()))"
   ]
  },
  {
   "cell_type": "code",
   "execution_count": 5,
   "metadata": {},
   "outputs": [
    {
     "name": "stdout",
     "output_type": "stream",
     "text": [
      "   3V3  (1) (2)  5V    \n",
      " GPIO2  (3) (4)  5V    \n",
      " GPIO3  (5) (6)  GND   \n",
      " GPIO4  (7) (8)  GPIO14\n",
      "   GND  (9) (10) GPIO15\n",
      "GPIO17 (11) (12) GPIO18\n",
      "GPIO27 (13) (14) GND   \n",
      "GPIO22 (15) (16) GPIO23\n",
      "   3V3 (17) (18) GPIO24\n",
      "GPIO10 (19) (20) GND   \n",
      " GPIO9 (21) (22) GPIO25\n",
      "GPIO11 (23) (24) GPIO8 \n",
      "   GND (25) (26) GPIO7 \n",
      " GPIO0 (27) (28) GPIO1 \n",
      " GPIO5 (29) (30) GND   \n",
      " GPIO6 (31) (32) GPIO12\n",
      "GPIO13 (33) (34) GND   \n",
      "GPIO19 (35) (36) GPIO16\n",
      "GPIO26 (37) (38) GPIO20\n",
      "   GND (39) (40) GPIO21\n"
     ]
    }
   ],
   "source": [
    "# This will help you navigate with Which Pin your are Using. Use the Numbers Present in the Bracket\n",
    "print('{0}'.format(pi_info().headers['J8']))"
   ]
  },
  {
   "cell_type": "code",
   "execution_count": 7,
   "metadata": {},
   "outputs": [],
   "source": [
    "# This will Also Print the GPIO Information according to the Headers\n",
    "print('{0:col2}'.format(pi_info().headers['P1']))"
   ]
  },
  {
   "cell_type": "markdown",
   "metadata": {},
   "source": [
    "You can Read about it more at https://gpiozero.readthedocs.io/"
   ]
  }
 ],
 "metadata": {
  "kernelspec": {
   "display_name": "Python 3",
   "language": "python",
   "name": "python3"
  },
  "language_info": {
   "codemirror_mode": {
    "name": "ipython",
    "version": 3
   },
   "file_extension": ".py",
   "mimetype": "text/x-python",
   "name": "python",
   "nbconvert_exporter": "python",
   "pygments_lexer": "ipython3",
   "version": "3.7.3"
  }
 },
 "nbformat": 4,
 "nbformat_minor": 4
}
