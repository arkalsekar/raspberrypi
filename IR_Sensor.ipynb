{
 "cells": [
  {
   "cell_type": "markdown",
   "metadata": {},
   "source": [
    "## Code for Running IR Sensors on Pi \n",
    "\n",
    "https://www.electronicshub.org/interfacing-ir-sensor-with-raspberry-pi/#Schematic_of_IR_Sensor_Module\n"
   ]
  },
  {
   "cell_type": "code",
   "execution_count": 3,
   "metadata": {},
   "outputs": [],
   "source": [
    "import RPi.GPIO as GPIO\n",
    "import time\n",
    "from gpiozero import *\n",
    "\n",
    "# The input Pin number of your IR Sensor\n",
    "sensor = 16\n",
    "\n",
    "# To know pin number and other Detials. Go to Pins.ipynb file"
   ]
  },
  {
   "cell_type": "code",
   "execution_count": 2,
   "metadata": {},
   "outputs": [],
   "source": [
    "GPIO.setmode(GPIO.BOARD)\n",
    "GPIO.setup(sensor,GPIO.IN)"
   ]
  },
  {
   "cell_type": "code",
   "execution_count": 14,
   "metadata": {},
   "outputs": [
    {
     "name": "stdout",
     "output_type": "stream",
     "text": [
      "IR Sensor is Ready to Detect ...\n",
      "Started Detecting -->>\n",
      "No Obstacle Detected | Moving Straight\n",
      "No Obstacle Detected | Moving Straight\n",
      "No Obstacle Detected | Moving Straight\n",
      "No Obstacle Detected | Moving Straight\n",
      "No Obstacle Detected | Moving Straight\n",
      "Obstacle Detected | Taking Right or Left \n",
      "No Obstacle Detected | Moving Straight\n",
      "Obstacle Detected | Taking Right or Left \n",
      "Obstacle Detected | Taking Right or Left \n",
      "Obstacle Detected | Taking Right or Left \n",
      "Obstacle Detected | Taking Right or Left \n",
      "No Obstacle Detected | Moving Straight\n",
      "No Obstacle Detected | Moving Straight\n",
      "No Obstacle Detected | Moving Straight\n",
      "No Obstacle Detected | Moving Straight\n",
      "No Obstacle Detected | Moving Straight\n",
      "No Obstacle Detected | Moving Straight\n",
      "No Obstacle Detected | Moving Straight\n",
      "No Obstacle Detected | Moving Straight\n",
      "No Obstacle Detected | Moving Straight\n",
      "No Obstacle Detected | Moving Straight\n",
      "Obstacle Detected | Taking Right or Left \n",
      "Obstacle Detected | Taking Right or Left \n",
      "Obstacle Detected | Taking Right or Left \n",
      "Obstacle Detected | Taking Right or Left \n",
      "Obstacle Detected | Taking Right or Left \n",
      "No Obstacle Detected | Moving Straight\n",
      "No Obstacle Detected | Moving Straight\n",
      "No Obstacle Detected | Moving Straight\n",
      "No Obstacle Detected | Moving Straight\n",
      "Obstacle Detected | Taking Right or Left \n",
      "Obstacle Detected | Taking Right or Left \n",
      "Obstacle Detected | Taking Right or Left \n",
      "Obstacle Detected | Taking Right or Left \n",
      "No Obstacle Detected | Moving Straight\n",
      "Obstacle Detected | Taking Right or Left \n",
      "No Obstacle Detected | Moving Straight\n",
      "No Obstacle Detected | Moving Straight\n",
      "No Obstacle Detected | Moving Straight\n",
      "No Obstacle Detected | Moving Straight\n",
      "Obstacle Detected | Taking Right or Left \n",
      "Obstacle Detected | Taking Right or Left \n",
      "No Obstacle Detected | Moving Straight\n",
      "No Obstacle Detected | Moving Straight\n",
      "No Obstacle Detected | Moving Straight\n",
      "No Obstacle Detected | Moving Straight\n",
      "No Obstacle Detected | Moving Straight\n",
      "No Obstacle Detected | Moving Straight\n",
      "No Obstacle Detected | Moving Straight\n",
      "Obstacle Detected | Taking Right or Left \n",
      "Obstacle Detected | Taking Right or Left \n",
      "No Obstacle Detected | Moving Straight\n",
      "Obstacle Detected | Taking Right or Left \n",
      "Obstacle Detected | Taking Right or Left \n",
      "No Obstacle Detected | Moving Straight\n",
      "No Obstacle Detected | Moving Straight\n",
      "No Obstacle Detected | Moving Straight\n",
      "Obstacle Detected | Taking Right or Left \n",
      "Obstacle Detected | Taking Right or Left \n",
      "Obstacle Detected | Taking Right or Left \n",
      "Obstacle Detected | Taking Right or Left \n",
      "Obstacle Detected | Taking Right or Left \n",
      "Obstacle Detected | Taking Right or Left \n",
      "Obstacle Detected | Taking Right or Left \n",
      "Obstacle Detected | Taking Right or Left \n",
      "Obstacle Detected | Taking Right or Left \n",
      "Obstacle Detected | Taking Right or Left \n",
      "Obstacle Detected | Taking Right or Left \n",
      "Obstacle Detected | Taking Right or Left \n",
      "Obstacle Detected | Taking Right or Left \n",
      "Obstacle Detected | Taking Right or Left \n",
      "Obstacle Detected | Taking Right or Left \n",
      "No Obstacle Detected | Moving Straight\n",
      "No Obstacle Detected | Moving Straight\n",
      "No Obstacle Detected | Moving Straight\n",
      "No Obstacle Detected | Moving Straight\n"
     ]
    },
    {
     "ename": "KeyboardInterrupt",
     "evalue": "",
     "output_type": "error",
     "traceback": [
      "\u001b[0;31m---------------------------------------------------------------------------\u001b[0m",
      "\u001b[0;31mKeyboardInterrupt\u001b[0m                         Traceback (most recent call last)",
      "\u001b[0;32m<ipython-input-14-3184471a2cf8>\u001b[0m in \u001b[0;36m<module>\u001b[0;34m\u001b[0m\n\u001b[1;32m     17\u001b[0m         \u001b[0mprint\u001b[0m\u001b[0;34m(\u001b[0m\u001b[0;34m\"No Obstacle Detected | Moving Straight\"\u001b[0m\u001b[0;34m)\u001b[0m\u001b[0;34m\u001b[0m\u001b[0;34m\u001b[0m\u001b[0m\n\u001b[1;32m     18\u001b[0m \u001b[0;34m\u001b[0m\u001b[0m\n\u001b[0;32m---> 19\u001b[0;31m         \u001b[0mtime\u001b[0m\u001b[0;34m.\u001b[0m\u001b[0msleep\u001b[0m\u001b[0;34m(\u001b[0m\u001b[0;36m1\u001b[0m\u001b[0;34m)\u001b[0m\u001b[0;34m\u001b[0m\u001b[0;34m\u001b[0m\u001b[0m\n\u001b[0m",
      "\u001b[0;31mKeyboardInterrupt\u001b[0m: "
     ]
    }
   ],
   "source": [
    "GPIO.setwarnings(False)\n",
    "\n",
    "GPIO.setup(8,GPIO.IN)\n",
    "print(\"IR Sensor is Ready to Detect ...\")\n",
    "time.sleep(2)\n",
    "print(\"Started Detecting -->>\")\n",
    "while(1):\n",
    "\n",
    "    state=GPIO.input(8)\n",
    "    if state==False:\n",
    "        print(\"Obstacle Detected | Taking Right or Left \")\n",
    "\n",
    "        time.sleep(1)\n",
    "\n",
    "    else:\n",
    "\n",
    "        print(\"No Obstacle Detected | Moving Straight\")\n",
    "\n",
    "        time.sleep(1)"
   ]
  },
  {
   "cell_type": "code",
   "execution_count": null,
   "metadata": {},
   "outputs": [],
   "source": []
  }
 ],
 "metadata": {
  "kernelspec": {
   "display_name": "Python 3",
   "language": "python",
   "name": "python3"
  },
  "language_info": {
   "codemirror_mode": {
    "name": "ipython",
    "version": 3
   },
   "file_extension": ".py",
   "mimetype": "text/x-python",
   "name": "python",
   "nbconvert_exporter": "python",
   "pygments_lexer": "ipython3",
   "version": "3.7.3"
  }
 },
 "nbformat": 4,
 "nbformat_minor": 4
}
